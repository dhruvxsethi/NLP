{
  "cells": [
    {
      "cell_type": "code",
      "execution_count": 2,
      "metadata": {
        "id": "Ijd0aoi-OfOm"
      },
      "outputs": [],
      "source": [
        "from sklearn.feature_extraction.text import CountVectorizer\n",
        "vect = CountVectorizer(binary = True)"
      ]
    },
    {
      "cell_type": "code",
      "execution_count": 3,
      "metadata": {
        "id": "yliSW8N3O7b_"
      },
      "outputs": [],
      "source": [
        "corpus = [\"NLP is awesome\",\"Top Unicorns use NLP techniques\",\"NLP Startups are amazing\"]"
      ]
    },
    {
      "cell_type": "code",
      "execution_count": 4,
      "metadata": {
        "colab": {
          "base_uri": "https://localhost:8080/"
        },
        "id": "Zzs78gOWPNyL",
        "outputId": "280b5137-d105-4940-db7b-a3dabb88eeb4"
      },
      "outputs": [
        {
          "data": {
            "text/plain": [
              "CountVectorizer(binary=True)"
            ]
          },
          "execution_count": 4,
          "metadata": {},
          "output_type": "execute_result"
        }
      ],
      "source": [
        "vect.fit(corpus)"
      ]
    },
    {
      "cell_type": "code",
      "execution_count": 5,
      "metadata": {
        "id": "RGm4JZK_Pebn"
      },
      "outputs": [],
      "source": [
        "vocab = vect.vocabulary_"
      ]
    },
    {
      "cell_type": "code",
      "execution_count": 6,
      "metadata": {
        "colab": {
          "base_uri": "https://localhost:8080/"
        },
        "id": "YgvWc0pLPopJ",
        "outputId": "36c843e9-75ac-477b-8a1e-e61fc233c1b0"
      },
      "outputs": [
        {
          "name": "stdout",
          "output_type": "stream",
          "text": [
            "nlp:4\n",
            "is:3\n",
            "awesome:2\n",
            "top:7\n",
            "unicorns:8\n",
            "use:9\n",
            "techniques:6\n",
            "startups:5\n",
            "are:1\n",
            "amazing:0\n"
          ]
        }
      ],
      "source": [
        "for key in vocab.keys():\n",
        "    print(\"{}:{}\".format(key,vocab[key]))"
      ]
    },
    {
      "cell_type": "code",
      "execution_count": 8,
      "metadata": {
        "colab": {
          "base_uri": "https://localhost:8080/"
        },
        "id": "zYOguI7XQE4f",
        "outputId": "150ccc7b-91c8-4199-f657-130290a9a9e8"
      },
      "outputs": [
        {
          "data": {
            "text/plain": [
              "array([[0, 1, 0, 0, 1, 0, 0, 0, 0, 0]])"
            ]
          },
          "execution_count": 8,
          "metadata": {},
          "output_type": "execute_result"
        }
      ],
      "source": [
        "vect.transform([\"NLP Projects are super fun to work on\"]).toarray()"
      ]
    },
    {
      "cell_type": "code",
      "execution_count": 25,
      "metadata": {
        "id": "ailrl1NhQFJI"
      },
      "outputs": [],
      "source": [
        "from sklearn.metrics.pairwise import cosine_similarity\n",
        "sim = cosine_similarity(vect.transform([\"Machine Learning is an awesome subject\"]).toarray(),vect.transform([\"NLP is a lucrative career option and a fun field to pursue\"]).toarray())"
      ]
    },
    {
      "cell_type": "code",
      "execution_count": 26,
      "metadata": {
        "colab": {
          "base_uri": "https://localhost:8080/"
        },
        "id": "VZmEkJSaQFMJ",
        "outputId": "05c2ecc8-86e2-4a86-c569-3821bc91d00f"
      },
      "outputs": [
        {
          "name": "stdout",
          "output_type": "stream",
          "text": [
            "[[0.5]]\n"
          ]
        }
      ],
      "source": [
        "print(sim)"
      ]
    }
  ],
  "metadata": {
    "colab": {
      "provenance": []
    },
    "kernelspec": {
      "display_name": "Python 3",
      "name": "python3"
    },
    "language_info": {
      "name": "python"
    }
  },
  "nbformat": 4,
  "nbformat_minor": 0
}
